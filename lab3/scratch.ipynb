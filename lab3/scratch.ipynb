{
 "cells": [
  {
   "cell_type": "code",
   "execution_count": null,
   "metadata": {},
   "outputs": [],
   "source": [
    "def bottom(width, height):\n",
    "    if width == 0:\n",
    "        return 0\n",
    "    else:\n",
    "        return bottom(width-1, height) | 1 << (width-1)*(height+1)\n",
    "\n",
    "# print(format(bottom(7, 6), \"049b\"))\n",
    "print(bottom(7, 6))\n",
    "\n",
    "board_mask = bottom(7, 6) * ((1 << 6) - 1)\n",
    "print(board_mask)"
   ]
  },
  {
   "cell_type": "code",
   "execution_count": null,
   "metadata": {},
   "outputs": [],
   "source": [
    "def number(i):\n",
    "    num = i.lower()\n",
    "    return 0 if num[0] == 'a' else 1 if num[0] == 'b' \\\n",
    "        else 2 if num[0] == 'c' else 3 if num[0] == 'd' \\\n",
    "        else 4 if num[0] == 'e' else 5 if num[0] == 'f' \\\n",
    "        else 6\n",
    "\n",
    "position = \"D1 d2 D3 d4 D5 e1 E2 e3 E4 b1 B2 b3 B4 b5 G1 d6 F1 g2 C1 f2 F3 f4 F5\"\n",
    "l = position.split()\n",
    "output = [str(number(i)) for i in l]\n",
    "print(\"\".join(output))\n"
   ]
  },
  {
   "cell_type": "code",
   "execution_count": 46,
   "metadata": {},
   "outputs": [
    {
     "name": "stdout",
     "output_type": "stream",
     "text": [
      "16384\n",
      "pos & mask 16384\n",
      "98688\n",
      "296070\n",
      "296067\n",
      "33\n",
      "base3 key 1020\n"
     ]
    }
   ],
   "source": [
    "pos = 1 << (2 * 7)\n",
    "print(pos)\n",
    "\n",
    "# position = 35454536375\n",
    "# mask = 107238903743\n",
    "position = 13263137931264 \n",
    "mask = 13298051334144\n",
    "\n",
    "position, mask = 268435456, 34628173824\n",
    "position, mask = 16384, 16512\n",
    "print(\"pos & mask\", pos & mask)\n",
    "key = position + mask\n",
    "\n",
    "# partial key3\n",
    "def partial_key3(key, col):\n",
    "    pos = 1 << (col * 7)\n",
    "    while pos & mask > 0:\n",
    "        key *= 3\n",
    "        if pos & position > 0:\n",
    "            key += 1\n",
    "        else:\n",
    "            key += 2\n",
    "        pos <<= 1\n",
    "\n",
    "    key *= 3\n",
    "\n",
    "    return key\n",
    "\n",
    "def key3():\n",
    "    key_forward = 0\n",
    "    for i in range(7):\n",
    "        key_forward = partial_key3(key_forward, i)\n",
    "    \n",
    "    key_reverse = 0\n",
    "    for i in range(6, -1, -1):\n",
    "        key_reverse = partial_key3(key_reverse, i)\n",
    "\n",
    "    return key_forward // 3 if key_forward < key_reverse else key_reverse // 3\n",
    "\n",
    "def ternary (n):\n",
    "    if n == 0:\n",
    "        return '0'\n",
    "    nums = []\n",
    "    while n:\n",
    "        n, r = divmod(n, 3)\n",
    "        nums.append(str(r))\n",
    "    return ''.join(reversed(nums))\n",
    "\n",
    "\n",
    "print(partial_key3(key, 0))\n",
    "print(partial_key3(key, 1))\n",
    "print(partial_key3(key, 2))\n",
    "\n",
    "print(key3())\n",
    "print(\"base3 key\", ternary(key3()))"
   ]
  },
  {
   "cell_type": "code",
   "execution_count": 37,
   "metadata": {},
   "outputs": [
    {
     "name": "stdout",
     "output_type": "stream",
     "text": [
      "7\n",
      "6\n",
      "5\n",
      "4\n",
      "3\n",
      "2\n",
      "1\n"
     ]
    }
   ],
   "source": [
    "for i in range(7, 0, -1):\n",
    "    print(i)"
   ]
  },
  {
   "cell_type": "code",
   "execution_count": null,
   "metadata": {},
   "outputs": [],
   "source": []
  }
 ],
 "metadata": {
  "interpreter": {
   "hash": "ae367dd4b5088707298d9d15134400372e44fb03e144b16b89da8da927cf7a09"
  },
  "kernelspec": {
   "display_name": "Python 3.8.8 64-bit ('base': conda)",
   "language": "python",
   "name": "python3"
  },
  "language_info": {
   "codemirror_mode": {
    "name": "ipython",
    "version": 3
   },
   "file_extension": ".py",
   "mimetype": "text/x-python",
   "name": "python",
   "nbconvert_exporter": "python",
   "pygments_lexer": "ipython3",
   "version": "3.9.9"
  },
  "orig_nbformat": 4
 },
 "nbformat": 4,
 "nbformat_minor": 2
}
